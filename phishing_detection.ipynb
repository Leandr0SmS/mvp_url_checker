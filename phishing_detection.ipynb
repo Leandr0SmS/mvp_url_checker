{
  "cells": [
    {
      "cell_type": "markdown",
      "metadata": {
        "id": "view-in-github",
        "colab_type": "text"
      },
      "source": [
        "<a href=\"https://colab.research.google.com/github/Leandr0SmS/mvp_url_checker/blob/main/phishing_detection.ipynb\" target=\"_parent\"><img src=\"https://colab.research.google.com/assets/colab-badge.svg\" alt=\"Open In Colab\"/></a>"
      ]
    },
    {
      "cell_type": "markdown",
      "source": [
        "# URL Check\n",
        "\n",
        "### Contexto\n",
        "\n",
        "Phishing é uma forma comum de crime cibernético que direciona a vítima para um endereço URL aparentemente confiável, no qual a mesma informa dados sensíveis.\n",
        "\n",
        "### Objetivo\n",
        "\n",
        "Esse MVP pretende buscar padrões em URLs maliciosos e classificar novos possíveis ataques.\n",
        "\n",
        "<br/>"
      ],
      "metadata": {
        "id": "xxeBONjMfcMv"
      }
    },
    {
      "cell_type": "code",
      "execution_count": 3,
      "metadata": {
        "id": "I3yw3FyiPkWr"
      },
      "outputs": [],
      "source": [
        "import warnings\n",
        "warnings.filterwarnings(\"ignore\")\n",
        "\n",
        "# Imports necessários\n",
        "import pandas as pd\n",
        "import numpy as np\n",
        "import matplotlib.pyplot as plt\n",
        "from sklearn.preprocessing import StandardScaler\n",
        "from sklearn.preprocessing import MinMaxScaler\n",
        "from sklearn.model_selection import train_test_split\n",
        "from sklearn.model_selection import KFold\n",
        "from sklearn.model_selection import StratifiedKFold\n",
        "from sklearn.model_selection import cross_val_score\n",
        "from sklearn.model_selection import GridSearchCV\n",
        "from sklearn.metrics import accuracy_score\n",
        "from sklearn.pipeline import Pipeline\n",
        "from sklearn.tree import DecisionTreeClassifier\n",
        "from sklearn.neighbors import KNeighborsClassifier\n",
        "from sklearn.naive_bayes import GaussianNB\n",
        "from sklearn.svm import SVC\n",
        "from sklearn.metrics import classification_report\n",
        "import joblib"
      ]
    },
    {
      "cell_type": "markdown",
      "source": [
        "## Carga do Dataset\n",
        "\n",
        "Após importar as dependências, importei o dataset com urls legítimos e maliciosos.\n",
        "\n",
        "Com a biblioteca Pandas:\n",
        "\n",
        "- Fiz a conversão do csv para um dataFrame;\n",
        "- Chamei o método .shape para saber o número de colunas e linhas.\n",
        "- Com o método head é possível visualizar um resumo dos dados."
      ],
      "metadata": {
        "id": "AfHs23gNklit"
      }
    },
    {
      "cell_type": "code",
      "execution_count": 4,
      "metadata": {
        "colab": {
          "base_uri": "https://localhost:8080/",
          "height": 278
        },
        "id": "DMHech2TQE9p",
        "outputId": "1c05745b-f941-41e5-c587-2fffaea07935"
      },
      "outputs": [
        {
          "output_type": "stream",
          "name": "stdout",
          "text": [
            "lines: 11430, col: 18\n"
          ]
        },
        {
          "output_type": "execute_result",
          "data": {
            "text/plain": [
              "                                                 url  length_url  \\\n",
              "0              http://www.crestonwood.com/router.php          37   \n",
              "1  http://shadetreetechnology.com/V4/validation/a...          77   \n",
              "2  https://support-appleld.com.secureupdate.duila...         126   \n",
              "3                                 http://rgipt.ac.in          18   \n",
              "4  http://www.iracing.com/tracks/gateway-motorspo...          55   \n",
              "\n",
              "   length_hostname  nb_dots  nb_hyphens  nb_underscore  nb_tilde  nb_percent  \\\n",
              "0               19        3           0              0         0           0   \n",
              "1               23        1           0              0         0           0   \n",
              "2               50        4           1              2         0           0   \n",
              "3               11        2           0              0         0           0   \n",
              "4               15        2           2              0         0           0   \n",
              "\n",
              "   nb_slash  nb_colon  nb_comma  nb_semicolumn  nb_dollar  nb_space  nb_www  \\\n",
              "0         3         1         0              0          0         0       1   \n",
              "1         5         1         0              0          0         0       0   \n",
              "2         5         1         0              0          0         0       0   \n",
              "3         2         1         0              0          0         0       0   \n",
              "4         5         1         0              0          0         0       1   \n",
              "\n",
              "   nb_com  http_in_path      status  \n",
              "0       0             0  legitimate  \n",
              "1       0             0    phishing  \n",
              "2       1             0    phishing  \n",
              "3       0             0  legitimate  \n",
              "4       0             0  legitimate  "
            ],
            "text/html": [
              "\n",
              "  <div id=\"df-e9a6c31d-b369-4299-9e4d-9005ea8a6dc8\" class=\"colab-df-container\">\n",
              "    <div>\n",
              "<style scoped>\n",
              "    .dataframe tbody tr th:only-of-type {\n",
              "        vertical-align: middle;\n",
              "    }\n",
              "\n",
              "    .dataframe tbody tr th {\n",
              "        vertical-align: top;\n",
              "    }\n",
              "\n",
              "    .dataframe thead th {\n",
              "        text-align: right;\n",
              "    }\n",
              "</style>\n",
              "<table border=\"1\" class=\"dataframe\">\n",
              "  <thead>\n",
              "    <tr style=\"text-align: right;\">\n",
              "      <th></th>\n",
              "      <th>url</th>\n",
              "      <th>length_url</th>\n",
              "      <th>length_hostname</th>\n",
              "      <th>nb_dots</th>\n",
              "      <th>nb_hyphens</th>\n",
              "      <th>nb_underscore</th>\n",
              "      <th>nb_tilde</th>\n",
              "      <th>nb_percent</th>\n",
              "      <th>nb_slash</th>\n",
              "      <th>nb_colon</th>\n",
              "      <th>nb_comma</th>\n",
              "      <th>nb_semicolumn</th>\n",
              "      <th>nb_dollar</th>\n",
              "      <th>nb_space</th>\n",
              "      <th>nb_www</th>\n",
              "      <th>nb_com</th>\n",
              "      <th>http_in_path</th>\n",
              "      <th>status</th>\n",
              "    </tr>\n",
              "  </thead>\n",
              "  <tbody>\n",
              "    <tr>\n",
              "      <th>0</th>\n",
              "      <td>http://www.crestonwood.com/router.php</td>\n",
              "      <td>37</td>\n",
              "      <td>19</td>\n",
              "      <td>3</td>\n",
              "      <td>0</td>\n",
              "      <td>0</td>\n",
              "      <td>0</td>\n",
              "      <td>0</td>\n",
              "      <td>3</td>\n",
              "      <td>1</td>\n",
              "      <td>0</td>\n",
              "      <td>0</td>\n",
              "      <td>0</td>\n",
              "      <td>0</td>\n",
              "      <td>1</td>\n",
              "      <td>0</td>\n",
              "      <td>0</td>\n",
              "      <td>legitimate</td>\n",
              "    </tr>\n",
              "    <tr>\n",
              "      <th>1</th>\n",
              "      <td>http://shadetreetechnology.com/V4/validation/a...</td>\n",
              "      <td>77</td>\n",
              "      <td>23</td>\n",
              "      <td>1</td>\n",
              "      <td>0</td>\n",
              "      <td>0</td>\n",
              "      <td>0</td>\n",
              "      <td>0</td>\n",
              "      <td>5</td>\n",
              "      <td>1</td>\n",
              "      <td>0</td>\n",
              "      <td>0</td>\n",
              "      <td>0</td>\n",
              "      <td>0</td>\n",
              "      <td>0</td>\n",
              "      <td>0</td>\n",
              "      <td>0</td>\n",
              "      <td>phishing</td>\n",
              "    </tr>\n",
              "    <tr>\n",
              "      <th>2</th>\n",
              "      <td>https://support-appleld.com.secureupdate.duila...</td>\n",
              "      <td>126</td>\n",
              "      <td>50</td>\n",
              "      <td>4</td>\n",
              "      <td>1</td>\n",
              "      <td>2</td>\n",
              "      <td>0</td>\n",
              "      <td>0</td>\n",
              "      <td>5</td>\n",
              "      <td>1</td>\n",
              "      <td>0</td>\n",
              "      <td>0</td>\n",
              "      <td>0</td>\n",
              "      <td>0</td>\n",
              "      <td>0</td>\n",
              "      <td>1</td>\n",
              "      <td>0</td>\n",
              "      <td>phishing</td>\n",
              "    </tr>\n",
              "    <tr>\n",
              "      <th>3</th>\n",
              "      <td>http://rgipt.ac.in</td>\n",
              "      <td>18</td>\n",
              "      <td>11</td>\n",
              "      <td>2</td>\n",
              "      <td>0</td>\n",
              "      <td>0</td>\n",
              "      <td>0</td>\n",
              "      <td>0</td>\n",
              "      <td>2</td>\n",
              "      <td>1</td>\n",
              "      <td>0</td>\n",
              "      <td>0</td>\n",
              "      <td>0</td>\n",
              "      <td>0</td>\n",
              "      <td>0</td>\n",
              "      <td>0</td>\n",
              "      <td>0</td>\n",
              "      <td>legitimate</td>\n",
              "    </tr>\n",
              "    <tr>\n",
              "      <th>4</th>\n",
              "      <td>http://www.iracing.com/tracks/gateway-motorspo...</td>\n",
              "      <td>55</td>\n",
              "      <td>15</td>\n",
              "      <td>2</td>\n",
              "      <td>2</td>\n",
              "      <td>0</td>\n",
              "      <td>0</td>\n",
              "      <td>0</td>\n",
              "      <td>5</td>\n",
              "      <td>1</td>\n",
              "      <td>0</td>\n",
              "      <td>0</td>\n",
              "      <td>0</td>\n",
              "      <td>0</td>\n",
              "      <td>1</td>\n",
              "      <td>0</td>\n",
              "      <td>0</td>\n",
              "      <td>legitimate</td>\n",
              "    </tr>\n",
              "  </tbody>\n",
              "</table>\n",
              "</div>\n",
              "    <div class=\"colab-df-buttons\">\n",
              "\n",
              "  <div class=\"colab-df-container\">\n",
              "    <button class=\"colab-df-convert\" onclick=\"convertToInteractive('df-e9a6c31d-b369-4299-9e4d-9005ea8a6dc8')\"\n",
              "            title=\"Convert this dataframe to an interactive table.\"\n",
              "            style=\"display:none;\">\n",
              "\n",
              "  <svg xmlns=\"http://www.w3.org/2000/svg\" height=\"24px\" viewBox=\"0 -960 960 960\">\n",
              "    <path d=\"M120-120v-720h720v720H120Zm60-500h600v-160H180v160Zm220 220h160v-160H400v160Zm0 220h160v-160H400v160ZM180-400h160v-160H180v160Zm440 0h160v-160H620v160ZM180-180h160v-160H180v160Zm440 0h160v-160H620v160Z\"/>\n",
              "  </svg>\n",
              "    </button>\n",
              "\n",
              "  <style>\n",
              "    .colab-df-container {\n",
              "      display:flex;\n",
              "      gap: 12px;\n",
              "    }\n",
              "\n",
              "    .colab-df-convert {\n",
              "      background-color: #E8F0FE;\n",
              "      border: none;\n",
              "      border-radius: 50%;\n",
              "      cursor: pointer;\n",
              "      display: none;\n",
              "      fill: #1967D2;\n",
              "      height: 32px;\n",
              "      padding: 0 0 0 0;\n",
              "      width: 32px;\n",
              "    }\n",
              "\n",
              "    .colab-df-convert:hover {\n",
              "      background-color: #E2EBFA;\n",
              "      box-shadow: 0px 1px 2px rgba(60, 64, 67, 0.3), 0px 1px 3px 1px rgba(60, 64, 67, 0.15);\n",
              "      fill: #174EA6;\n",
              "    }\n",
              "\n",
              "    .colab-df-buttons div {\n",
              "      margin-bottom: 4px;\n",
              "    }\n",
              "\n",
              "    [theme=dark] .colab-df-convert {\n",
              "      background-color: #3B4455;\n",
              "      fill: #D2E3FC;\n",
              "    }\n",
              "\n",
              "    [theme=dark] .colab-df-convert:hover {\n",
              "      background-color: #434B5C;\n",
              "      box-shadow: 0px 1px 3px 1px rgba(0, 0, 0, 0.15);\n",
              "      filter: drop-shadow(0px 1px 2px rgba(0, 0, 0, 0.3));\n",
              "      fill: #FFFFFF;\n",
              "    }\n",
              "  </style>\n",
              "\n",
              "    <script>\n",
              "      const buttonEl =\n",
              "        document.querySelector('#df-e9a6c31d-b369-4299-9e4d-9005ea8a6dc8 button.colab-df-convert');\n",
              "      buttonEl.style.display =\n",
              "        google.colab.kernel.accessAllowed ? 'block' : 'none';\n",
              "\n",
              "      async function convertToInteractive(key) {\n",
              "        const element = document.querySelector('#df-e9a6c31d-b369-4299-9e4d-9005ea8a6dc8');\n",
              "        const dataTable =\n",
              "          await google.colab.kernel.invokeFunction('convertToInteractive',\n",
              "                                                    [key], {});\n",
              "        if (!dataTable) return;\n",
              "\n",
              "        const docLinkHtml = 'Like what you see? Visit the ' +\n",
              "          '<a target=\"_blank\" href=https://colab.research.google.com/notebooks/data_table.ipynb>data table notebook</a>'\n",
              "          + ' to learn more about interactive tables.';\n",
              "        element.innerHTML = '';\n",
              "        dataTable['output_type'] = 'display_data';\n",
              "        await google.colab.output.renderOutput(dataTable, element);\n",
              "        const docLink = document.createElement('div');\n",
              "        docLink.innerHTML = docLinkHtml;\n",
              "        element.appendChild(docLink);\n",
              "      }\n",
              "    </script>\n",
              "  </div>\n",
              "\n",
              "\n",
              "<div id=\"df-6ebcf413-e2ce-4c63-8b46-fa1493c49d50\">\n",
              "  <button class=\"colab-df-quickchart\" onclick=\"quickchart('df-6ebcf413-e2ce-4c63-8b46-fa1493c49d50')\"\n",
              "            title=\"Suggest charts\"\n",
              "            style=\"display:none;\">\n",
              "\n",
              "<svg xmlns=\"http://www.w3.org/2000/svg\" height=\"24px\"viewBox=\"0 0 24 24\"\n",
              "     width=\"24px\">\n",
              "    <g>\n",
              "        <path d=\"M19 3H5c-1.1 0-2 .9-2 2v14c0 1.1.9 2 2 2h14c1.1 0 2-.9 2-2V5c0-1.1-.9-2-2-2zM9 17H7v-7h2v7zm4 0h-2V7h2v10zm4 0h-2v-4h2v4z\"/>\n",
              "    </g>\n",
              "</svg>\n",
              "  </button>\n",
              "\n",
              "<style>\n",
              "  .colab-df-quickchart {\n",
              "      --bg-color: #E8F0FE;\n",
              "      --fill-color: #1967D2;\n",
              "      --hover-bg-color: #E2EBFA;\n",
              "      --hover-fill-color: #174EA6;\n",
              "      --disabled-fill-color: #AAA;\n",
              "      --disabled-bg-color: #DDD;\n",
              "  }\n",
              "\n",
              "  [theme=dark] .colab-df-quickchart {\n",
              "      --bg-color: #3B4455;\n",
              "      --fill-color: #D2E3FC;\n",
              "      --hover-bg-color: #434B5C;\n",
              "      --hover-fill-color: #FFFFFF;\n",
              "      --disabled-bg-color: #3B4455;\n",
              "      --disabled-fill-color: #666;\n",
              "  }\n",
              "\n",
              "  .colab-df-quickchart {\n",
              "    background-color: var(--bg-color);\n",
              "    border: none;\n",
              "    border-radius: 50%;\n",
              "    cursor: pointer;\n",
              "    display: none;\n",
              "    fill: var(--fill-color);\n",
              "    height: 32px;\n",
              "    padding: 0;\n",
              "    width: 32px;\n",
              "  }\n",
              "\n",
              "  .colab-df-quickchart:hover {\n",
              "    background-color: var(--hover-bg-color);\n",
              "    box-shadow: 0 1px 2px rgba(60, 64, 67, 0.3), 0 1px 3px 1px rgba(60, 64, 67, 0.15);\n",
              "    fill: var(--button-hover-fill-color);\n",
              "  }\n",
              "\n",
              "  .colab-df-quickchart-complete:disabled,\n",
              "  .colab-df-quickchart-complete:disabled:hover {\n",
              "    background-color: var(--disabled-bg-color);\n",
              "    fill: var(--disabled-fill-color);\n",
              "    box-shadow: none;\n",
              "  }\n",
              "\n",
              "  .colab-df-spinner {\n",
              "    border: 2px solid var(--fill-color);\n",
              "    border-color: transparent;\n",
              "    border-bottom-color: var(--fill-color);\n",
              "    animation:\n",
              "      spin 1s steps(1) infinite;\n",
              "  }\n",
              "\n",
              "  @keyframes spin {\n",
              "    0% {\n",
              "      border-color: transparent;\n",
              "      border-bottom-color: var(--fill-color);\n",
              "      border-left-color: var(--fill-color);\n",
              "    }\n",
              "    20% {\n",
              "      border-color: transparent;\n",
              "      border-left-color: var(--fill-color);\n",
              "      border-top-color: var(--fill-color);\n",
              "    }\n",
              "    30% {\n",
              "      border-color: transparent;\n",
              "      border-left-color: var(--fill-color);\n",
              "      border-top-color: var(--fill-color);\n",
              "      border-right-color: var(--fill-color);\n",
              "    }\n",
              "    40% {\n",
              "      border-color: transparent;\n",
              "      border-right-color: var(--fill-color);\n",
              "      border-top-color: var(--fill-color);\n",
              "    }\n",
              "    60% {\n",
              "      border-color: transparent;\n",
              "      border-right-color: var(--fill-color);\n",
              "    }\n",
              "    80% {\n",
              "      border-color: transparent;\n",
              "      border-right-color: var(--fill-color);\n",
              "      border-bottom-color: var(--fill-color);\n",
              "    }\n",
              "    90% {\n",
              "      border-color: transparent;\n",
              "      border-bottom-color: var(--fill-color);\n",
              "    }\n",
              "  }\n",
              "</style>\n",
              "\n",
              "  <script>\n",
              "    async function quickchart(key) {\n",
              "      const quickchartButtonEl =\n",
              "        document.querySelector('#' + key + ' button');\n",
              "      quickchartButtonEl.disabled = true;  // To prevent multiple clicks.\n",
              "      quickchartButtonEl.classList.add('colab-df-spinner');\n",
              "      try {\n",
              "        const charts = await google.colab.kernel.invokeFunction(\n",
              "            'suggestCharts', [key], {});\n",
              "      } catch (error) {\n",
              "        console.error('Error during call to suggestCharts:', error);\n",
              "      }\n",
              "      quickchartButtonEl.classList.remove('colab-df-spinner');\n",
              "      quickchartButtonEl.classList.add('colab-df-quickchart-complete');\n",
              "    }\n",
              "    (() => {\n",
              "      let quickchartButtonEl =\n",
              "        document.querySelector('#df-6ebcf413-e2ce-4c63-8b46-fa1493c49d50 button');\n",
              "      quickchartButtonEl.style.display =\n",
              "        google.colab.kernel.accessAllowed ? 'block' : 'none';\n",
              "    })();\n",
              "  </script>\n",
              "</div>\n",
              "    </div>\n",
              "  </div>\n"
            ]
          },
          "metadata": {},
          "execution_count": 4
        }
      ],
      "source": [
        "# URL de importação do dataset\n",
        "url = \"https://raw.githubusercontent.com/Leandr0SmS/mvp_url_checker/main/dataset_phishing.csv\"\n",
        "\n",
        "# Lê o arquivo\n",
        "dataset = pd.read_csv(url, delimiter=',')\n",
        "\n",
        "# Tamanho do dataset\n",
        "shape = dataset.shape\n",
        "print(f\"lines: {shape[0]}, col: {shape[1]}\")\n",
        "\n",
        "dataset.head()\n"
      ]
    },
    {
      "cell_type": "markdown",
      "source": [
        "## Separação dos dados\n",
        "\n",
        "Inicialmente é definido o tamanho do conjunto de teste para 20%.\n",
        "\n",
        "É definida a semente (seed) para embaralhar aleatoriamente as amostras de cada classe antes de dividir.\n",
        "\n",
        "A divisão do dataFrame em entrada (X) e saída(y) é feita com base no método .shape carregado anteriormente.\n",
        "\n",
        "O método train_test_split divide o modelo em treino e teste com estratificação indicado pelo parametro stratify=y, garantindo que a proporção de classes nos conjuntos divididos sejam aproximadamente iguais à proporção de classes no conjunto de dados original.\n",
        "\n",
        "O método StratifiedKFold faz a validação cruzada. Selecionei o 20 partições visto que o dataset possui um número elevado de dados.\n"
      ],
      "metadata": {
        "id": "YkQ_PdZjl5jT"
      }
    },
    {
      "cell_type": "code",
      "execution_count": 5,
      "metadata": {
        "id": "OqtblzDLjSht"
      },
      "outputs": [],
      "source": [
        "test_size = 0.20 # tamanho do conjunto de teste\n",
        "seed = 7 # semente aleatória\n",
        "dateSet_len = shape[1] - 1 # Numero de colunas do dataset\n",
        "\n",
        "# Separação em conjuntos de treino e teste\n",
        "array = dataset.values\n",
        "\n",
        "X = array[:,1:dateSet_len]\n",
        "y = array[:,dateSet_len]\n",
        "\n",
        "\n",
        "X_train, X_test, y_train, y_test = train_test_split(X, y,\n",
        "    test_size=test_size, shuffle=True, random_state=seed, stratify=y) # holdout com estratificação\n",
        "\n",
        "# Parâmetros e partições da validação cruzada\n",
        "scoring = 'accuracy'\n",
        "num_particoes = 20\n",
        "kfold = StratifiedKFold(n_splits=num_particoes, shuffle=True, random_state=seed) # validação cruzada com estratificação"
      ]
    },
    {
      "cell_type": "markdown",
      "source": [
        "## Criação e avaliação de modelos\n",
        "\n",
        "É criada uma lista de modelos com os algorítimos de classificação:\n",
        "- Arvore de Decisão (CART)\n",
        "- k-nearest neighbors (KNN)\n",
        "- Naive Bayes (NB)\n",
        "- Máquina de vetores de suporte (SVM)\n",
        "\n",
        "É testado cada algorítimo com os dados de treino. Os valores são plotados no gráfico para comparar os modelos com base na acurácia.\n",
        "\n",
        "Neste primeiro teste o CART obteve o melhor resultado 0.819776 (0.011875)"
      ],
      "metadata": {
        "id": "5yc_xEJ7EjvO"
      }
    },
    {
      "cell_type": "code",
      "execution_count": 6,
      "metadata": {
        "colab": {
          "base_uri": "https://localhost:8080/",
          "height": 999
        },
        "id": "Evc3gHE8kVwZ",
        "outputId": "5cde4ab0-635a-45ce-e9ae-cb401b11b618"
      },
      "outputs": [
        {
          "output_type": "stream",
          "name": "stdout",
          "text": [
            "KNN: 0.813869 (0.016112)\n",
            "CART: 0.819776 (0.011875)\n",
            "NB: 0.602799 (0.019300)\n",
            "SVM: 0.734249 (0.023652)\n"
          ]
        },
        {
          "output_type": "display_data",
          "data": {
            "text/plain": [
              "<Figure size 1500x1000 with 1 Axes>"
            ],
            "image/png": "[encoded data removed]"
          },
          "metadata": {}
        }
      ],
      "source": [
        "np.random.seed(7) # definindo uma semente global\n",
        "\n",
        "# Lista que armazenará os modelos\n",
        "models = []\n",
        "\n",
        "# Criando os modelos e adicionando-os na lista de modelos\n",
        "models.append(('KNN', KNeighborsClassifier()))\n",
        "models.append(('CART', DecisionTreeClassifier()))\n",
        "models.append(('NB', GaussianNB()))\n",
        "models.append(('SVM', SVC()))\n",
        "\n",
        "# Listas para armazenar os resultados\n",
        "results = []\n",
        "names = []\n",
        "\n",
        "# Avaliação dos modelos\n",
        "for name, model in models:\n",
        "    cv_results = cross_val_score(model, X_train, y_train, cv=kfold, scoring=scoring)\n",
        "    results.append(cv_results)\n",
        "    names.append(name)\n",
        "    msg = \"%s: %f (%f)\" % (name, cv_results.mean(), cv_results.std())\n",
        "    print(msg)\n",
        "\n",
        "# Boxplot de comparação dos modelos\n",
        "fig = plt.figure(figsize=(15,10))\n",
        "fig.suptitle('Comparação dos Modelos')\n",
        "ax = fig.add_subplot(111)\n",
        "plt.boxplot(results)\n",
        "ax.set_xticklabels(names)\n",
        "plt.show()"
      ]
    },
    {
      "cell_type": "markdown",
      "source": [
        "## Padronização e normalização dos dados\n",
        "\n",
        "São criados pipelines para treinar cada modelo de uma vez, com dados padronizados e outra com dados normalizados em busca de um melhor desempenho.\n",
        "\n",
        "No final, os dados são plotados em um gráfico de comparação.\n",
        "\n",
        "Nesta etapa o algorítimo que atingiu o melhor resultado foi o KNN com dados padronizados:\n",
        "- KNN-padr: 0.838 (0.012)"
      ],
      "metadata": {
        "id": "pu953zNhMx0O"
      }
    },
    {
      "cell_type": "code",
      "execution_count": 7,
      "metadata": {
        "id": "DWwzikDfkovt",
        "colab": {
          "base_uri": "https://localhost:8080/",
          "height": 684
        },
        "outputId": "690ac67f-4671-491c-e535-cdfc95a5fc55"
      },
      "outputs": [
        {
          "output_type": "stream",
          "name": "stdout",
          "text": [
            "KNN-orig: 0.814 (0.016)\n",
            "CART-orig: 0.820 (0.012)\n",
            "NB-orig: 0.603 (0.019)\n",
            "SVM-orig: 0.734 (0.024)\n",
            "KNN-padr: 0.838 (0.012)\n",
            "CART-padr: 0.818 (0.013)\n",
            "NB-padr: 0.580 (0.017)\n",
            "SVM-padr: 0.814 (0.015)\n",
            "KNN-norm: 0.834 (0.015)\n",
            "CART-norm: 0.819 (0.013)\n",
            "NB-norm: 0.590 (0.019)\n",
            "SVM-norm: 0.799 (0.016)\n",
            "Best acc: 0.8379279619313349\n"
          ]
        },
        {
          "output_type": "display_data",
          "data": {
            "text/plain": [
              "<Figure size 2500x600 with 1 Axes>"
            ],
            "image/png": "[encoded data removed]"
          },
          "metadata": {}
        }
      ],
      "source": [
        "np.random.seed(7) # definindo uma semente global para este bloco\n",
        "\n",
        "# Listas para armazenar os armazenar os pipelines e os resultados para todas as visões do dataset\n",
        "pipelines = []\n",
        "results = []\n",
        "names = []\n",
        "\n",
        "\n",
        "# Criando os elementos do pipeline\n",
        "\n",
        "# Algoritmos que serão utilizados\n",
        "knn = ('KNN', KNeighborsClassifier())\n",
        "cart = ('CART', DecisionTreeClassifier())\n",
        "naive_bayes = ('NB', GaussianNB())\n",
        "svm = ('SVM', SVC())\n",
        "\n",
        "# Transformações que serão utilizadas\n",
        "standard_scaler = ('StandardScaler', StandardScaler())\n",
        "min_max_scaler = ('MinMaxScaler', MinMaxScaler())\n",
        "\n",
        "\n",
        "# Montando os pipelines\n",
        "\n",
        "# Dataset original\n",
        "pipelines.append(('KNN-orig', Pipeline([knn])))\n",
        "pipelines.append(('CART-orig', Pipeline([cart])))\n",
        "pipelines.append(('NB-orig', Pipeline([naive_bayes])))\n",
        "pipelines.append(('SVM-orig', Pipeline([svm])))\n",
        "\n",
        "# Dataset Padronizado\n",
        "pipelines.append(('KNN-padr', Pipeline([standard_scaler, knn])))\n",
        "pipelines.append(('CART-padr', Pipeline([standard_scaler, cart])))\n",
        "pipelines.append(('NB-padr', Pipeline([standard_scaler, naive_bayes])))\n",
        "pipelines.append(('SVM-padr', Pipeline([standard_scaler, svm])))\n",
        "\n",
        "# Dataset Normalizado\n",
        "pipelines.append(('KNN-norm', Pipeline([min_max_scaler, knn])))\n",
        "pipelines.append(('CART-norm', Pipeline([min_max_scaler, cart])))\n",
        "pipelines.append(('NB-norm', Pipeline([min_max_scaler, naive_bayes])))\n",
        "pipelines.append(('SVM-norm', Pipeline([min_max_scaler, svm])))\n",
        "\n",
        "# Executando os pipelines\n",
        "for name, model in pipelines:\n",
        "    cv_results = cross_val_score(model, X_train, y_train, cv=kfold, scoring=scoring)\n",
        "    results.append(cv_results)\n",
        "    names.append(name)\n",
        "    msg = \"%s: %.3f (%.3f)\" % (name, cv_results.mean(), cv_results.std()) # formatando para 3 casas decimais\n",
        "    print(msg)\n",
        "\n",
        "def acc_scores(result):\n",
        "  return result.mean()\n",
        "\n",
        "# Print do melhor resultado de acc\n",
        "results_acc = list(map(acc_scores, results))\n",
        "max_result_acc = max(results_acc)\n",
        "print(f\"Best acc: {max_result_acc}\")\n",
        "\n",
        "# Boxplot de comparação dos modelos\n",
        "fig = plt.figure(figsize=(25,6))\n",
        "fig.suptitle('Comparação dos Modelos - Dataset orginal, padronizado e normalizado')\n",
        "ax = fig.add_subplot(111)\n",
        "plt.boxplot(results)\n",
        "ax.set_xticklabels(names, rotation=90)\n",
        "plt.show()"
      ]
    },
    {
      "cell_type": "markdown",
      "source": [
        "## Otimização dos hiperparâmetros\n",
        "\n",
        "O KNN com dados padronizados foi selecionado como melhor algorítimo para esse problema.\n",
        "\n",
        "São criados pipelines para testar o KNN com diferentes parâmetros com o método GridSearchCV que faz um grid search para encontrar a melhor combinação de hiperparâmetros do modelo.\n",
        "\n",
        "Nesta etapa o algorítimo que atingiu o melhor resultado foi o KNN com dados padronizados, com o cálculo de distância entre os pontos utilizando a distância de Manhattan e considerando os 13 pontos mais próximos.\n",
        "\n",
        "- knn-padr 0.839681 usando {'KNN__metric': 'manhattan', 'KNN__n_neighbors': 13}"
      ],
      "metadata": {
        "id": "Of7KPUGQPM4H"
      }
    },
    {
      "cell_type": "code",
      "execution_count": 8,
      "metadata": {
        "id": "wN-l4ufpQQYd",
        "colab": {
          "base_uri": "https://localhost:8080/"
        },
        "outputId": "c9854b5f-b296-4828-a4ed-940104b9acb7"
      },
      "outputs": [
        {
          "output_type": "stream",
          "name": "stdout",
          "text": [
            "Modelo: knn-orig - Melhor: 0.818023 usando {'KNN__metric': 'manhattan', 'KNN__n_neighbors': 11}\n",
            "Modelo: knn-padr - Melhor: 0.839681 usando {'KNN__metric': 'manhattan', 'KNN__n_neighbors': 13}\n",
            "Modelo: knn-norm - Melhor: 0.839680 usando {'KNN__metric': 'manhattan', 'KNN__n_neighbors': 9}\n"
          ]
        }
      ],
      "source": [
        "# Tuning do KNN\n",
        "\n",
        "np.random.seed(7) # definindo uma semente global para este bloco\n",
        "\n",
        "pipelines = []\n",
        "\n",
        "# Definindo os componentes do pipeline\n",
        "knn = ('KNN', KNeighborsClassifier())\n",
        "\n",
        "standard_scaler = ('StandardScaler', StandardScaler())\n",
        "min_max_scaler = ('MinMaxScaler', MinMaxScaler())\n",
        "\n",
        "pipelines.append(('knn-orig', Pipeline(steps=[knn])))\n",
        "pipelines.append(('knn-padr', Pipeline(steps=[standard_scaler, knn])))\n",
        "pipelines.append(('knn-norm', Pipeline(steps=[min_max_scaler, knn])))\n",
        "\n",
        "\n",
        "param_grid = {\n",
        "    'KNN__n_neighbors': [3,5,7,9,11,13,15],\n",
        "    'KNN__metric': [\"euclidean\", \"manhattan\", \"minkowski\"],\n",
        "}\n",
        "\n",
        "# Prepara e executa o GridSearchCV\n",
        "for name, model in pipelines:\n",
        "    grid = GridSearchCV(estimator=model, param_grid=param_grid, scoring=scoring, cv=kfold)\n",
        "    grid.fit(X_train, y_train)\n",
        "    # imprime a melhor configuração\n",
        "    print(\"Modelo: %s - Melhor: %f usando %s\" % (name, grid.best_score_, grid.best_params_))"
      ]
    },
    {
      "cell_type": "markdown",
      "source": [
        "## Testando o modelo com o conjunto de teste\n",
        "\n",
        "Teste do modelo escolhido com os dados de teste utilizando um pipeline para evitar data leakage.\n",
        "\n",
        "Nesta etapa o modelo teve um resultado levemente pior que no treino.\n",
        "\n",
        "- 0.821084864391951"
      ],
      "metadata": {
        "id": "4xl-sqSfRgUI"
      }
    },
    {
      "cell_type": "code",
      "source": [
        "# Avaliação do modelo com o conjunto de testes\n",
        "\n",
        "# model = Modelo: knn-padr - Melhor: 0.839681 usando {'KNN__metric': 'manhattan', 'KNN__n_neighbors': 13}\n",
        "knn_model = KNeighborsClassifier()\n",
        "\n",
        "# Criação do pipeline com Knn e escala padrão\n",
        "pipe_knn = Pipeline([('scaler', StandardScaler()), ('KNN', knn_model)])\n",
        "pipe_knn.set_params(KNN__metric='euclidean', KNN__n_neighbors=13)\n",
        "\n",
        "# An estimator's parameter can be set using '__' syntax\n",
        "pipe_knn.fit(X_train, y_train).score(X_test, y_test)"
      ],
      "metadata": {
        "colab": {
          "base_uri": "https://localhost:8080/"
        },
        "id": "4N75ZOcKACiU",
        "outputId": "776e2571-a059-4ca1-d17a-98c9df90dd43"
      },
      "execution_count": 11,
      "outputs": [
        {
          "output_type": "execute_result",
          "data": {
            "text/plain": [
              "0.821084864391951"
            ]
          },
          "metadata": {},
          "execution_count": 11
        }
      ]
    },
    {
      "cell_type": "markdown",
      "source": [
        "## Preparação do modelo final\n",
        "\n",
        "O modelo escolhido é treinado com todo o dataset"
      ],
      "metadata": {
        "id": "a0fYcqEoTdrV"
      }
    },
    {
      "cell_type": "code",
      "source": [
        "# Preparação do modelo com TODO o dataset\n",
        "pipe_knn.fit(X, y)"
      ],
      "metadata": {
        "colab": {
          "base_uri": "https://localhost:8080/",
          "height": 125
        },
        "id": "tqB94OFSDHU-",
        "outputId": "b60f4503-aacb-4455-d12f-95b26607c162"
      },
      "execution_count": 14,
      "outputs": [
        {
          "output_type": "execute_result",
          "data": {
            "text/plain": [
              "Pipeline(steps=[('scaler', StandardScaler()),\n",
              "                ('KNN',\n",
              "                 KNeighborsClassifier(metric='euclidean', n_neighbors=13))])"
            ],
            "text/html": [
              "<style>#sk-container-id-1 {color: black;background-color: white;}#sk-container-id-1 pre{padding: 0;}#sk-container-id-1 div.sk-toggleable {background-color: white;}#sk-container-id-1 label.sk-toggleable__label {cursor: pointer;display: block;width: 100%;margin-bottom: 0;padding: 0.3em;box-sizing: border-box;text-align: center;}#sk-container-id-1 label.sk-toggleable__label-arrow:before {content: \"▸\";float: left;margin-right: 0.25em;color: #696969;}#sk-container-id-1 label.sk-toggleable__label-arrow:hover:before {color: black;}#sk-container-id-1 div.sk-estimator:hover label.sk-toggleable__label-arrow:before {color: black;}#sk-container-id-1 div.sk-toggleable__content {max-height: 0;max-width: 0;overflow: hidden;text-align: left;background-color: #f0f8ff;}#sk-container-id-1 div.sk-toggleable__content pre {margin: 0.2em;color: black;border-radius: 0.25em;background-color: #f0f8ff;}#sk-container-id-1 input.sk-toggleable__control:checked~div.sk-toggleable__content {max-height: 200px;max-width: 100%;overflow: auto;}#sk-container-id-1 input.sk-toggleable__control:checked~label.sk-toggleable__label-arrow:before {content: \"▾\";}#sk-container-id-1 div.sk-estimator input.sk-toggleable__control:checked~label.sk-toggleable__label {background-color: #d4ebff;}#sk-container-id-1 div.sk-label input.sk-toggleable__control:checked~label.sk-toggleable__label {background-color: #d4ebff;}#sk-container-id-1 input.sk-hidden--visually {border: 0;clip: rect(1px 1px 1px 1px);clip: rect(1px, 1px, 1px, 1px);height: 1px;margin: -1px;overflow: hidden;padding: 0;position: absolute;width: 1px;}#sk-container-id-1 div.sk-estimator {font-family: monospace;background-color: #f0f8ff;border: 1px dotted black;border-radius: 0.25em;box-sizing: border-box;margin-bottom: 0.5em;}#sk-container-id-1 div.sk-estimator:hover {background-color: #d4ebff;}#sk-container-id-1 div.sk-parallel-item::after {content: \"\";width: 100%;border-bottom: 1px solid gray;flex-grow: 1;}#sk-container-id-1 div.sk-label:hover label.sk-toggleable__label {background-color: #d4ebff;}#sk-container-id-1 div.sk-serial::before {content: \"\";position: absolute;border-left: 1px solid gray;box-sizing: border-box;top: 0;bottom: 0;left: 50%;z-index: 0;}#sk-container-id-1 div.sk-serial {display: flex;flex-direction: column;align-items: center;background-color: white;padding-right: 0.2em;padding-left: 0.2em;position: relative;}#sk-container-id-1 div.sk-item {position: relative;z-index: 1;}#sk-container-id-1 div.sk-parallel {display: flex;align-items: stretch;justify-content: center;background-color: white;position: relative;}#sk-container-id-1 div.sk-item::before, #sk-container-id-1 div.sk-parallel-item::before {content: \"\";position: absolute;border-left: 1px solid gray;box-sizing: border-box;top: 0;bottom: 0;left: 50%;z-index: -1;}#sk-container-id-1 div.sk-parallel-item {display: flex;flex-direction: column;z-index: 1;position: relative;background-color: white;}#sk-container-id-1 div.sk-parallel-item:first-child::after {align-self: flex-end;width: 50%;}#sk-container-id-1 div.sk-parallel-item:last-child::after {align-self: flex-start;width: 50%;}#sk-container-id-1 div.sk-parallel-item:only-child::after {width: 0;}#sk-container-id-1 div.sk-dashed-wrapped {border: 1px dashed gray;margin: 0 0.4em 0.5em 0.4em;box-sizing: border-box;padding-bottom: 0.4em;background-color: white;}#sk-container-id-1 div.sk-label label {font-family: monospace;font-weight: bold;display: inline-block;line-height: 1.2em;}#sk-container-id-1 div.sk-label-container {text-align: center;}#sk-container-id-1 div.sk-container {/* jupyter's `normalize.less` sets `[hidden] { display: none; }` but bootstrap.min.css set `[hidden] { display: none !important; }` so we also need the `!important` here to be able to override the default hidden behavior on the sphinx rendered scikit-learn.org. See: https://github.com/scikit-learn/scikit-learn/issues/21755 */display: inline-block !important;position: relative;}#sk-container-id-1 div.sk-text-repr-fallback {display: none;}</style><div id=\"sk-container-id-1\" class=\"sk-top-container\"><div class=\"sk-text-repr-fallback\"><pre>Pipeline(steps=[(&#x27;scaler&#x27;, StandardScaler()),\n",
              "                (&#x27;KNN&#x27;,\n",
              "                 KNeighborsClassifier(metric=&#x27;euclidean&#x27;, n_neighbors=13))])</pre><b>In a Jupyter environment, please rerun this cell to show the HTML representation or trust the notebook. <br />On GitHub, the HTML representation is unable to render, please try loading this page with nbviewer.org.</b></div><div class=\"sk-container\" hidden><div class=\"sk-item sk-dashed-wrapped\"><div class=\"sk-label-container\"><div class=\"sk-label sk-toggleable\"><input class=\"sk-toggleable__control sk-hidden--visually\" id=\"sk-estimator-id-1\" type=\"checkbox\" ><label for=\"sk-estimator-id-1\" class=\"sk-toggleable__label sk-toggleable__label-arrow\">Pipeline</label><div class=\"sk-toggleable__content\"><pre>Pipeline(steps=[(&#x27;scaler&#x27;, StandardScaler()),\n",
              "                (&#x27;KNN&#x27;,\n",
              "                 KNeighborsClassifier(metric=&#x27;euclidean&#x27;, n_neighbors=13))])</pre></div></div></div><div class=\"sk-serial\"><div class=\"sk-item\"><div class=\"sk-estimator sk-toggleable\"><input class=\"sk-toggleable__control sk-hidden--visually\" id=\"sk-estimator-id-2\" type=\"checkbox\" ><label for=\"sk-estimator-id-2\" class=\"sk-toggleable__label sk-toggleable__label-arrow\">StandardScaler</label><div class=\"sk-toggleable__content\"><pre>StandardScaler()</pre></div></div></div><div class=\"sk-item\"><div class=\"sk-estimator sk-toggleable\"><input class=\"sk-toggleable__control sk-hidden--visually\" id=\"sk-estimator-id-3\" type=\"checkbox\" ><label for=\"sk-estimator-id-3\" class=\"sk-toggleable__label sk-toggleable__label-arrow\">KNeighborsClassifier</label><div class=\"sk-toggleable__content\"><pre>KNeighborsClassifier(metric=&#x27;euclidean&#x27;, n_neighbors=13)</pre></div></div></div></div></div></div></div>"
            ]
          },
          "metadata": {},
          "execution_count": 14
        }
      ]
    },
    {
      "cell_type": "markdown",
      "source": [
        "## Teste do modelo com dados novos dados\n",
        "\n",
        "O modelo final é exposto a dados ainda não vistos.\n",
        "\n",
        "Nesta etapa o resultado foi ainda menor, mas considerando que está acima de 50% e o dataset foi pequeno ainda é aceitável.\n",
        "\n",
        "- Acurácia: 0.6666\n",
        "\n"
      ],
      "metadata": {
        "id": "mH-rs3jbTrWy"
      }
    },
    {
      "cell_type": "code",
      "execution_count": 17,
      "metadata": {
        "id": "bLaqOtJ-9TnW",
        "colab": {
          "base_uri": "https://localhost:8080/"
        },
        "outputId": "1491253c-a08f-41a4-f2c6-63b6fd1e534a"
      },
      "outputs": [
        {
          "output_type": "stream",
          "name": "stdout",
          "text": [
            "              precision    recall  f1-score   support\n",
            "\n",
            "  legitimate       0.75      0.75      0.75         4\n",
            "    phishing       0.50      0.50      0.50         2\n",
            "\n",
            "    accuracy                           0.67         6\n",
            "   macro avg       0.62      0.62      0.62         6\n",
            "weighted avg       0.67      0.67      0.67         6\n",
            "\n",
            "Acurácia: 0.6666666666666666\n"
          ]
        }
      ],
      "source": [
        "data = {\n",
        "         # [legitimate\", legitimate\", legitimate\", \"phishing\", legitimate\", \"phishing\"]\n",
        "         \"length_url\": [28, 88, 22, 61, 29, 60],\n",
        "         \"length_hostname\": [19, 20, 15, 15, 20, 16],\n",
        "         \"nb_dots\": [2, 3, 1, 2, 2, 2],\n",
        "         \"nb_hyphens\": [0, 5, 0, 0, 0, 0],\n",
        "         \"nb_underscore\": [0, 0, 0, 2, 0, 0],\n",
        "         \"nb_tilde\": [0, 0, 0, 0, 0, 0],\n",
        "         \"nb_percent\": [0, 0, 0, 0, 0, 0],\n",
        "         \"nb_slash\": [3, 5, 2, 4, 3, 5],\n",
        "         \"nb_colon\": [1, 1, 1, 1, 1, 1],\n",
        "         \"nb_comma\": [0, 0, 0, 0, 0, 0],\n",
        "         \"nb_semicolumn\": [0, 0, 0, 0, 0, 0],\n",
        "         \"nb_dollar\": [0, 0, 0, 0, 0, 0],\n",
        "         \"nb_space\": [0, 0, 0, 0, 0, 0],\n",
        "         \"nb_www\": [1, 1, 0, 1, 0, 0],\n",
        "         \"nb_com\": [0, 0, 0, 0, 0, 0],\n",
        "         \"http_in_path\": [0, 0, 0, 0, 0, 0],\n",
        "     }\n",
        "\n",
        "atributos = list(data.keys())\n",
        "\n",
        "entrada = pd.DataFrame(data, columns=atributos)\n",
        "\n",
        "# Previsão do modelo knn com novos dados\n",
        "saidas_pipe_knn = pipe_knn.predict(entrada)\n",
        "y_pred = saidas_pipe_knn\n",
        "y_true = [\"legitimate\", \"legitimate\", \"legitimate\", \"phishing\", \"legitimate\", \"phishing\"]\n",
        "target_names = [\"legitimate\", \"phishing\"]\n",
        "print(classification_report(y_true, y_pred, target_names=target_names))\n",
        "print(f\"Acurácia: {accuracy_score(y_true, y_pred)}\")\n"
      ]
    },
    {
      "cell_type": "markdown",
      "source": [
        "## Salva o modelo no disco\n",
        "\n",
        "O modelo é exportado no formato joblib para ser usado no back-end"
      ],
      "metadata": {
        "id": "zUN8vendVHV9"
      }
    },
    {
      "cell_type": "code",
      "source": [
        "\n",
        "pipe_file = 'pipe_knn__url_checker.joblib'\n",
        "joblib.dump(pipe_knn, open(pipe_file, 'wb'))"
      ],
      "metadata": {
        "id": "1vbrICwqec_v"
      },
      "execution_count": 18,
      "outputs": []
    },
    {
      "cell_type": "markdown",
      "source": [
        "## Conclusão\n",
        "\n",
        "O modelo apresentou resultados bons com os dados de treinamento e teste, mas quando foi exposto a dados não vistos teve uma queda, ainda sim, seu desempenho foi satisfatório.\n",
        "\n",
        "Para melhorar o desempenho, acredito que:\n",
        "\n",
        "- Aumentar o dataset de treino melhoraria a acurácia do modelo.\n",
        "- Aumentar o número de parâmetros a serem analisados pelo modelo aumentaria a probabilidade dele avaliar corretamente um URL.\n",
        "- Aumentar o dataset de dados não vistos para diminuir a penalização de uma predição errada melhoraria a acurácia do teste."
      ],
      "metadata": {
        "id": "qYGUnEQJVUww"
      }
    },
    {
      "cell_type": "code",
      "source": [],
      "metadata": {
        "id": "gn9jd6v5VtDB"
      },
      "execution_count": null,
      "outputs": []
    }
  ],
  "metadata": {
    "colab": {
      "provenance": [],
      "authorship_tag": "ABX9TyOrkUcvLa9xpmmKNjFcCutk",
      "include_colab_link": true
    },
    "kernelspec": {
      "display_name": "Python 3",
      "name": "python3"
    },
    "language_info": {
      "name": "python"
    }
  },
  "nbformat": 4,
  "nbformat_minor": 0
}